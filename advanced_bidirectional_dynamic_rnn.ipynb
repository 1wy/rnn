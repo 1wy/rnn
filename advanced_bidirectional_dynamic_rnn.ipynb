{
 "cells": [
  {
   "cell_type": "code",
   "execution_count": 1,
   "metadata": {
    "collapsed": true,
    "deletable": true,
    "editable": true
   },
   "outputs": [],
   "source": [
    "# Previous examples use the shifted target sequence as decoder input.\n",
    "# Here we use the generated sequence as decoder input.\n",
    "# The key is the usage of the function tf.nn.raw_rnn and the design of the function loop_fn."
   ]
  },
  {
   "cell_type": "code",
   "execution_count": 148,
   "metadata": {
    "collapsed": true,
    "deletable": true,
    "editable": true
   },
   "outputs": [],
   "source": [
    "x = [[5, 7, 8], [6, 3], [3], [1]]"
   ]
  },
  {
   "cell_type": "code",
   "execution_count": 185,
   "metadata": {
    "collapsed": false,
    "deletable": true,
    "editable": true
   },
   "outputs": [],
   "source": [
    "import helpers\n",
    "xt, xlen = helpers.batch(x)"
   ]
  },
  {
   "cell_type": "code",
   "execution_count": 186,
   "metadata": {
    "collapsed": false,
    "deletable": true,
    "editable": true
   },
   "outputs": [
    {
     "data": {
      "text/plain": [
       "array([[5, 6, 3, 1],\n",
       "       [7, 3, 0, 0],\n",
       "       [8, 0, 0, 0]], dtype=int32)"
      ]
     },
     "execution_count": 186,
     "metadata": {},
     "output_type": "execute_result"
    }
   ],
   "source": [
    "xt"
   ]
  },
  {
   "cell_type": "code",
   "execution_count": 187,
   "metadata": {
    "collapsed": true,
    "deletable": true,
    "editable": true
   },
   "outputs": [],
   "source": [
    "import numpy as np\n",
    "import tensorflow as tf\n",
    "from tensorflow.python.ops import math_ops\n",
    "from tensorflow.python.ops import control_flow_ops\n",
    "tf.reset_default_graph()\n",
    "sess = tf.InteractiveSession()"
   ]
  },
  {
   "cell_type": "code",
   "execution_count": 188,
   "metadata": {
    "collapsed": true,
    "deletable": true,
    "editable": true
   },
   "outputs": [],
   "source": [
    "PAD = 0\n",
    "EOS = 1\n",
    "\n",
    "vocab_size = 10\n",
    "input_embedding_size = 20\n",
    "\n",
    "encoder_hidden_units = 20\n",
    "decoder_hidden_units = encoder_hidden_units"
   ]
  },
  {
   "cell_type": "code",
   "execution_count": 189,
   "metadata": {
    "collapsed": true,
    "deletable": true,
    "editable": true
   },
   "outputs": [],
   "source": [
    "encoder_inputs = tf.placeholder(shape=(None, None), dtype=tf.int32, name='encoder_inputs')\n",
    "decoder_targets = tf.placeholder(shape=(None, None), dtype=tf.int32, name='decoder_targets')\n",
    "encoder_inputs_len = tf.placeholder(shape=(None), dtype=tf.int32, name='encoder_inputs_len')"
   ]
  },
  {
   "cell_type": "code",
   "execution_count": 190,
   "metadata": {
    "collapsed": true,
    "deletable": true,
    "editable": true
   },
   "outputs": [],
   "source": [
    "embeddings = tf.Variable(tf.random_uniform([vocab_size, input_embedding_size], -1.0, 1.0), dtype=tf.float32)"
   ]
  },
  {
   "cell_type": "code",
   "execution_count": 191,
   "metadata": {
    "collapsed": false,
    "deletable": true,
    "editable": true
   },
   "outputs": [],
   "source": [
    "encoder_inputs_embedded = tf.nn.embedding_lookup(embeddings, encoder_inputs)"
   ]
  },
  {
   "cell_type": "code",
   "execution_count": 192,
   "metadata": {
    "collapsed": false,
    "deletable": true,
    "editable": true
   },
   "outputs": [
    {
     "data": {
      "text/plain": [
       "<tf.Tensor 'embedding_lookup:0' shape=(?, ?, 20) dtype=float32>"
      ]
     },
     "execution_count": 192,
     "metadata": {},
     "output_type": "execute_result"
    }
   ],
   "source": [
    "encoder_inputs_embedded"
   ]
  },
  {
   "cell_type": "code",
   "execution_count": 193,
   "metadata": {
    "collapsed": false,
    "deletable": true,
    "editable": true
   },
   "outputs": [],
   "source": [
    "encoder_cell = tf.contrib.rnn.LSTMCell(encoder_hidden_units)"
   ]
  },
  {
   "cell_type": "code",
   "execution_count": 194,
   "metadata": {
    "collapsed": false,
    "deletable": true,
    "editable": true
   },
   "outputs": [],
   "source": [
    "# note: here bidirectional_dynamic_rnn requires the parameter sequence_length, \n",
    "# or it will raise error for not supporting reverse operation to none type.\n",
    "encoder_outputs, encoder_final_state = tf.nn.bidirectional_dynamic_rnn(\n",
    "    encoder_cell, encoder_cell, encoder_inputs_embedded,\n",
    "    sequence_length=encoder_inputs_len,\n",
    "    dtype=tf.float32, time_major=True,\n",
    ")"
   ]
  },
  {
   "cell_type": "code",
   "execution_count": 195,
   "metadata": {
    "collapsed": false,
    "deletable": true,
    "editable": true
   },
   "outputs": [],
   "source": [
    "(state_c_fw, state_h_fw), (state_c_bw, state_h_bw) = encoder_final_state"
   ]
  },
  {
   "cell_type": "code",
   "execution_count": 196,
   "metadata": {
    "collapsed": false,
    "deletable": true,
    "editable": true
   },
   "outputs": [
    {
     "data": {
      "text/plain": [
       "LSTMStateTuple(c=<tf.Tensor 'fully_connected/Tanh:0' shape=(?, 20) dtype=float32>, h=<tf.Tensor 'fully_connected_1/Tanh:0' shape=(?, 20) dtype=float32>)"
      ]
     },
     "execution_count": 196,
     "metadata": {},
     "output_type": "execute_result"
    }
   ],
   "source": [
    "# feed the concatenated the bidirectional rnn's outputs to the decoder.\n",
    "state_c = tf.concat([state_c_fw, state_c_bw], 1)\n",
    "state_h = tf.concat([state_h_fw, state_h_bw], 1)\n",
    "\n",
    "state_c = tf.contrib.layers.fully_connected(state_c, decoder_hidden_units, activation_fn=tf.nn.tanh)\n",
    "state_h = tf.contrib.layers.fully_connected(state_h, decoder_hidden_units, activation_fn=tf.nn.tanh)\n",
    "\n",
    "encoder_final_state = tf.contrib.rnn.LSTMStateTuple(state_c, state_h)\n",
    "encoder_final_state"
   ]
  },
  {
   "cell_type": "code",
   "execution_count": 197,
   "metadata": {
    "collapsed": false
   },
   "outputs": [],
   "source": [
    "# eos_step_embedded for the first decoder input\n",
    "# pad_step_embedded for the step when it is beyond the decoder length.\n",
    "encoder_max_time, batch_size = tf.unstack(tf.shape(encoder_inputs))\n",
    "\n",
    "eos_time_slice = tf.ones([batch_size], dtype=tf.int32, name='EOS')\n",
    "pad_time_slice = tf.zeros([batch_size], dtype=tf.int32, name='PAD')\n",
    "\n",
    "eos_step_embedded = tf.nn.embedding_lookup(embeddings, eos_time_slice)\n",
    "pad_step_embedded = tf.nn.embedding_lookup(embeddings, pad_time_slice)\n",
    "\n",
    "# here we are doing a toy copy task, so we unroll decoder for len(encoder_input)+2, to allow model some room to make mistakes over 2 additional steps:\n",
    "# +2 additional steps, +1 leading <EOS> token for decoder inputs\n",
    "decoder_len = encoder_inputs_len + 3"
   ]
  },
  {
   "cell_type": "code",
   "execution_count": 198,
   "metadata": {
    "collapsed": true
   },
   "outputs": [],
   "source": [
    "# define the weight for output.\n",
    "Wo = tf.Variable(tf.random_uniform([decoder_hidden_units, vocab_size], -1, 1), dtype=tf.float32, name='Wo')\n",
    "bo = tf.Variable(tf.zeros([vocab_size]), dtype=tf.float32, name='bo')"
   ]
  },
  {
   "cell_type": "code",
   "execution_count": 199,
   "metadata": {
    "collapsed": false
   },
   "outputs": [],
   "source": [
    "# loop_fn: A callable that takes inputs (time, cell_output, cell_state, loop_state) \n",
    "# and returns the tuple (finished, next_input, next_cell_state, emit_output, next_loop_state)\n",
    "\n",
    "# def loop_fn_initial():\n",
    "#     initial_elements_finished = (0 >= decoder_len)  # all False at the initial step\n",
    "#     initial_input = eos_step_embedded\n",
    "#     initial_cell_state = encoder_final_state\n",
    "#     initial_cell_output = None\n",
    "#     initial_loop_state = None  # we don't need to pass any additional information\n",
    "#     return (initial_elements_finished,\n",
    "#             initial_input,\n",
    "#             initial_cell_state,\n",
    "#             initial_cell_output,\n",
    "#             initial_loop_state)\n",
    "\n",
    "# def loop_fn_transition(time, previous_output, previous_state, previous_loop_state):\n",
    "#     def get_next_input():\n",
    "#         output_logits = tf.add(tf.matmul(previous_output, Wo), bo)\n",
    "#         prediction = tf.argmax(output_logits, axis=1)\n",
    "#         next_input = tf.nn.embedding_lookup(embeddings, prediction)\n",
    "#         return next_input\n",
    "\n",
    "#     elements_finished = (time >= decoder_len)  # this operation produces boolean tensor of [batch_size]\n",
    "#     # defining if corresponding sequence has ended\n",
    "\n",
    "#     finished = tf.reduce_all(elements_finished)  # -> boolean scalar\n",
    "#     input = tf.cond(finished, lambda: pad_step_embedded, get_next_input)\n",
    "#     state = previous_state\n",
    "#     output = previous_output\n",
    "#     loop_state = None\n",
    "\n",
    "#     return (elements_finished,\n",
    "#             input,\n",
    "#             state,\n",
    "#             output,\n",
    "#             loop_state)\n",
    "# \n",
    "# def loop_fn(time, previous_output, previous_state, previous_loop_state):\n",
    "#     if previous_state is None:    # time == 0\n",
    "#         assert previous_output is None and previous_state is None\n",
    "#         return loop_fn_initial()\n",
    "#     else:\n",
    "#         return loop_fn_transition(time, previous_output, previous_state, previous_loop_state)\n",
    "    \n",
    "def loop_fn(time, previous_output, previous_state, previous_loop_state):\n",
    "    def get_next_input():\n",
    "        output_logits = tf.add(tf.matmul(previous_output, Wo), bo)\n",
    "        prediction = tf.argmax(output_logits, axis=1)\n",
    "        next_input = tf.nn.embedding_lookup(embeddings, prediction)\n",
    "        return next_input\n",
    "\n",
    "    elements_finished = (time >= decoder_len)\n",
    "    finished = math_ops.reduce_all(elements_finished)\n",
    "    \n",
    "    if previous_state is None:    # time == 0\n",
    "        state = encoder_final_state\n",
    "        next_input = eos_step_embedded\n",
    "        output = None\n",
    "    else:\n",
    "        state = previous_state\n",
    "        next_input = tf.cond(finished, lambda: pad_step_embedded, get_next_input)\n",
    "        output = previous_output\n",
    "    # we don't need to pass any additional information\n",
    "    loop_state = None \n",
    "    \n",
    "    return (elements_finished,\n",
    "            next_input,\n",
    "            state,\n",
    "            output,\n",
    "            loop_state)"
   ]
  },
  {
   "cell_type": "code",
   "execution_count": 200,
   "metadata": {
    "collapsed": true,
    "deletable": true,
    "editable": true
   },
   "outputs": [],
   "source": [
    "decoder_cell = tf.contrib.rnn.LSTMCell(decoder_hidden_units)"
   ]
  },
  {
   "cell_type": "code",
   "execution_count": 201,
   "metadata": {
    "collapsed": false,
    "deletable": true,
    "editable": true
   },
   "outputs": [],
   "source": [
    "decoder_outputs_ta, decoder_final_state, _ = tf.nn.raw_rnn(decoder_cell, loop_fn)\n",
    "decoder_outputs = decoder_outputs_ta.stack()"
   ]
  },
  {
   "cell_type": "code",
   "execution_count": 202,
   "metadata": {
    "collapsed": false,
    "deletable": true,
    "editable": true
   },
   "outputs": [
    {
     "data": {
      "text/plain": [
       "<tf.Tensor 'TensorArrayStack/TensorArrayGatherV3:0' shape=(?, ?, 20) dtype=float32>"
      ]
     },
     "execution_count": 202,
     "metadata": {},
     "output_type": "execute_result"
    }
   ],
   "source": [
    "decoder_outputs"
   ]
  },
  {
   "cell_type": "code",
   "execution_count": 203,
   "metadata": {
    "collapsed": true,
    "deletable": true,
    "editable": true
   },
   "outputs": [],
   "source": [
    "decoder_logits = tf.contrib.layers.linear(decoder_outputs, vocab_size)"
   ]
  },
  {
   "cell_type": "code",
   "execution_count": 204,
   "metadata": {
    "collapsed": false,
    "deletable": true,
    "editable": true
   },
   "outputs": [
    {
     "data": {
      "text/plain": [
       "<tf.Tensor 'fully_connected_2/BiasAdd:0' shape=(?, ?, 10) dtype=float32>"
      ]
     },
     "execution_count": 204,
     "metadata": {},
     "output_type": "execute_result"
    }
   ],
   "source": [
    "decoder_logits"
   ]
  },
  {
   "cell_type": "code",
   "execution_count": 205,
   "metadata": {
    "collapsed": true,
    "deletable": true,
    "editable": true
   },
   "outputs": [],
   "source": [
    "decoder_prediction = tf.argmax(decoder_logits, 2)"
   ]
  },
  {
   "cell_type": "code",
   "execution_count": 206,
   "metadata": {
    "collapsed": true,
    "deletable": true,
    "editable": true
   },
   "outputs": [],
   "source": [
    "stepwise_cross_entropy = tf.nn.softmax_cross_entropy_with_logits(\n",
    "    labels=tf.one_hot(decoder_targets, depth=vocab_size, dtype=tf.float32),\n",
    "    logits=decoder_logits,\n",
    ")"
   ]
  },
  {
   "cell_type": "code",
   "execution_count": 207,
   "metadata": {
    "collapsed": false,
    "deletable": true,
    "editable": true
   },
   "outputs": [
    {
     "data": {
      "text/plain": [
       "<tf.Tensor 'ArgMax:0' shape=(?, ?) dtype=int64>"
      ]
     },
     "execution_count": 207,
     "metadata": {},
     "output_type": "execute_result"
    }
   ],
   "source": [
    "decoder_prediction"
   ]
  },
  {
   "cell_type": "code",
   "execution_count": 208,
   "metadata": {
    "collapsed": false,
    "deletable": true,
    "editable": true
   },
   "outputs": [
    {
     "data": {
      "text/plain": [
       "<tf.Tensor 'Reshape_2:0' shape=(?, ?) dtype=float32>"
      ]
     },
     "execution_count": 208,
     "metadata": {},
     "output_type": "execute_result"
    }
   ],
   "source": [
    "stepwise_cross_entropy"
   ]
  },
  {
   "cell_type": "code",
   "execution_count": 209,
   "metadata": {
    "collapsed": true,
    "deletable": true,
    "editable": true
   },
   "outputs": [],
   "source": [
    "loss = tf.reduce_mean(stepwise_cross_entropy)\n",
    "train_op = tf.train.AdamOptimizer().minimize(loss)"
   ]
  },
  {
   "cell_type": "code",
   "execution_count": 210,
   "metadata": {
    "collapsed": true,
    "deletable": true,
    "editable": true
   },
   "outputs": [],
   "source": [
    "sess.run(tf.global_variables_initializer())"
   ]
  },
  {
   "cell_type": "code",
   "execution_count": 211,
   "metadata": {
    "collapsed": false,
    "deletable": true,
    "editable": true
   },
   "outputs": [
    {
     "name": "stdout",
     "output_type": "stream",
     "text": [
      "head of the batch:\n",
      "[4, 3, 9]\n",
      "[2, 5, 7, 8, 2, 6, 8]\n",
      "[8, 2, 4, 8, 7, 2, 8]\n",
      "[5, 5, 6, 8, 2]\n",
      "[8, 6, 7, 2, 2, 9, 3, 4]\n",
      "[6, 4, 7, 7, 3]\n",
      "[2, 2, 5]\n",
      "[2, 4, 6, 4, 5, 4, 9]\n",
      "[9, 7, 5, 7, 7, 2, 8, 5]\n",
      "[7, 8, 7, 2, 6, 7]\n"
     ]
    }
   ],
   "source": [
    "batch_size = 100\n",
    "\n",
    "batches = helpers.random_sequences(length_from=3, length_to=8,\n",
    "                                   vocab_lower=2, vocab_upper=10,\n",
    "                                   batch_size=batch_size)\n",
    "\n",
    "print('head of the batch:')\n",
    "for seq in next(batches)[:10]:\n",
    "    print(seq)"
   ]
  },
  {
   "cell_type": "code",
   "execution_count": 212,
   "metadata": {
    "collapsed": true,
    "deletable": true,
    "editable": true
   },
   "outputs": [],
   "source": [
    "def next_feed():\n",
    "    batch = next(batches)\n",
    "    encoder_inputs_, encoder_input_lengths_ = helpers.batch(batch)\n",
    "    decoder_targets_, _ = helpers.batch(\n",
    "        [(sequence) + [EOS] + [PAD] * 2 for sequence in batch]\n",
    "    )\n",
    "    return {\n",
    "        encoder_inputs: encoder_inputs_,\n",
    "        encoder_inputs_len: encoder_input_lengths_,\n",
    "        decoder_targets: decoder_targets_,\n",
    "    }"
   ]
  },
  {
   "cell_type": "code",
   "execution_count": 213,
   "metadata": {
    "collapsed": true,
    "deletable": true,
    "editable": true
   },
   "outputs": [],
   "source": [
    "loss_track = []"
   ]
  },
  {
   "cell_type": "code",
   "execution_count": 214,
   "metadata": {
    "collapsed": false,
    "deletable": true,
    "editable": true
   },
   "outputs": [
    {
     "name": "stdout",
     "output_type": "stream",
     "text": [
      "batch 0\n",
      "  minibatch loss: 2.33903312683\n",
      "  sample 1:\n",
      "    input     > [6 5 8 0 0 0 0 0]\n",
      "    predicted > [2 3 3 3 3 3 0 0 0 0 0]\n",
      "  sample 2:\n",
      "    input     > [5 2 4 0 0 0 0 0]\n",
      "    predicted > [2 3 3 3 3 3 0 0 0 0 0]\n",
      "  sample 3:\n",
      "    input     > [9 2 2 0 0 0 0 0]\n",
      "    predicted > [2 3 3 3 3 3 0 0 0 0 0]\n",
      "()\n",
      "batch 1000\n",
      "  minibatch loss: 0.84826952219\n",
      "  sample 1:\n",
      "    input     > [6 3 9 2 0 0 0 0]\n",
      "    predicted > [6 6 2 2 1 0 0 0 0 0 0]\n",
      "  sample 2:\n",
      "    input     > [8 7 4 6 5 3 9 3]\n",
      "    predicted > [8 8 8 8 8 3 3 3 1 0 0]\n",
      "  sample 3:\n",
      "    input     > [8 5 7 4 4 5 8 0]\n",
      "    predicted > [5 5 8 8 8 8 8 1 0 0 0]\n",
      "()\n",
      "batch 2000\n",
      "  minibatch loss: 0.555927097797\n",
      "  sample 1:\n",
      "    input     > [3 5 7 2 8 4 0 0]\n",
      "    predicted > [5 5 7 7 7 8 1 0 0 0 0]\n",
      "  sample 2:\n",
      "    input     > [5 7 7 6 3 0 0 0]\n",
      "    predicted > [7 7 7 7 3 1 0 0 0 0 0]\n",
      "  sample 3:\n",
      "    input     > [2 7 3 7 7 4 0 0]\n",
      "    predicted > [2 7 7 7 7 4 1 0 0 0 0]\n",
      "()\n",
      "batch 3000\n",
      "  minibatch loss: 0.483351498842\n",
      "  sample 1:\n",
      "    input     > [7 4 4 7 0 0 0 0]\n",
      "    predicted > [7 4 4 7 1 0 0 0 0 0 0]\n",
      "  sample 2:\n",
      "    input     > [3 6 5 7 0 0 0 0]\n",
      "    predicted > [3 6 5 7 1 0 0 0 0 0 0]\n",
      "  sample 3:\n",
      "    input     > [9 6 8 6 0 0 0 0]\n",
      "    predicted > [9 6 6 6 1 0 0 0 0 0 0]\n",
      "()\n"
     ]
    }
   ],
   "source": [
    "max_batches = 3001\n",
    "batches_in_epoch = 1000\n",
    "\n",
    "try:\n",
    "    for batch in range(max_batches):\n",
    "        fd = next_feed()\n",
    "        _, l = sess.run([train_op, loss], fd)\n",
    "        loss_track.append(l)\n",
    "\n",
    "        if batch == 0 or batch % batches_in_epoch == 0:\n",
    "            print('batch {}'.format(batch))\n",
    "            print('  minibatch loss: {}'.format(sess.run(loss, fd)))\n",
    "            predict_ = sess.run(decoder_prediction, fd)\n",
    "            for i, (inp, pred) in enumerate(zip(fd[encoder_inputs].T, predict_.T)):\n",
    "                print('  sample {}:'.format(i + 1))\n",
    "                print('    input     > {}'.format(inp))\n",
    "                print('    predicted > {}'.format(pred))\n",
    "                if i >= 2:\n",
    "                    break\n",
    "            print()\n",
    "except KeyboardInterrupt:\n",
    "    print('training interrupted')"
   ]
  },
  {
   "cell_type": "code",
   "execution_count": 215,
   "metadata": {
    "collapsed": false,
    "deletable": true,
    "editable": true
   },
   "outputs": [
    {
     "name": "stdout",
     "output_type": "stream",
     "text": [
      "loss 0.4841 after 300100 examples (batch_size=100)\n"
     ]
    }
   ],
   "source": [
    "import matplotlib.pyplot as plt\n",
    "plt.plot(loss_track)\n",
    "print('loss {:.4f} after {} examples (batch_size={})'.format(loss_track[-1], len(loss_track)*batch_size, batch_size))"
   ]
  },
  {
   "cell_type": "code",
   "execution_count": 216,
   "metadata": {
    "collapsed": false,
    "deletable": true,
    "editable": true
   },
   "outputs": [
    {
     "data": {
      "image/png": "[encoded data removed]",
      "text/plain": [
       "<matplotlib.figure.Figure at 0x7f73cf640cd0>"
      ]
     },
     "metadata": {},
     "output_type": "display_data"
    }
   ],
   "source": [
    "plt.show()"
   ]
  },
  {
   "cell_type": "code",
   "execution_count": null,
   "metadata": {
    "collapsed": true,
    "deletable": true,
    "editable": true
   },
   "outputs": [],
   "source": []
  }
 ],
 "metadata": {
  "kernelspec": {
   "display_name": "Python 2",
   "language": "python",
   "name": "python2"
  },
  "language_info": {
   "codemirror_mode": {
    "name": "ipython",
    "version": 2
   },
   "file_extension": ".py",
   "mimetype": "text/x-python",
   "name": "python",
   "nbconvert_exporter": "python",
   "pygments_lexer": "ipython2",
   "version": "2.7.12"
  }
 },
 "nbformat": 4,
 "nbformat_minor": 2
}
